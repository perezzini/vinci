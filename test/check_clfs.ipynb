{
 "cells": [
  {
   "cell_type": "code",
   "execution_count": 1,
   "metadata": {},
   "outputs": [
    {
     "name": "stdout",
     "output_type": "stream",
     "text": [
      "/home/luciano/Documents/unr/fceia/lcc/tesina/ing-legal/repos/vinci\n"
     ]
    }
   ],
   "source": [
    "%cd .."
   ]
  },
  {
   "cell_type": "code",
   "execution_count": 2,
   "metadata": {},
   "outputs": [],
   "source": [
    "from nlp.preprocess import Preprocess\n",
    "pre = Preprocess('stemming')"
   ]
  },
  {
   "cell_type": "code",
   "execution_count": 3,
   "metadata": {},
   "outputs": [],
   "source": [
    "from joblib import load"
   ]
  },
  {
   "cell_type": "code",
   "execution_count": 4,
   "metadata": {},
   "outputs": [],
   "source": [
    "CSF_PATH = 'ext_data/models/clfs/svc/laboral.joblib'"
   ]
  },
  {
   "cell_type": "code",
   "execution_count": 5,
   "metadata": {},
   "outputs": [],
   "source": [
    "est = load(CSF_PATH)  # load estimator (predictor, machine learning model)"
   ]
  },
  {
   "cell_type": "code",
   "execution_count": 12,
   "metadata": {},
   "outputs": [],
   "source": [
    "# predict :: string -> {0, 1}\n",
    "def predict(normative):\n",
    "    tokens = pre.proc(normative)  # list of tokens\n",
    "    string_of_tokens = ' '.join(tokens)  # sklearn lib requieres string of concat'd tokens, sep by whitespace, as input\n",
    "    return est.predict([string_of_tokens])[0]  # returns prediction (0: negative, 1: positive)"
   ]
  },
  {
   "cell_type": "markdown",
   "metadata": {},
   "source": [
    "## Use case of machine learning model"
   ]
  },
  {
   "cell_type": "code",
   "execution_count": 15,
   "metadata": {},
   "outputs": [],
   "source": [
    "normative = \"\"\"\n",
    "SECRETARÍA DE GOBIERNO DE TRABAJO Y EMPLEO\n",
    "Decreto 17/2019\n",
    "DECTO-2019-17-APN-PTE - Desígnase Secretario de Coordinación Administrativa.\n",
    "Ciudad de Buenos Aires, 04/01/2019\n",
    "\n",
    "VISTO el Expediente N° EX-2018-66308087-APN-DGARRHHMP#MPYT, y\n",
    "\n",
    "CONSIDERANDO:\n",
    "\n",
    "Que el Doctor Don Esteban ESEVERRI (M.I. Nº 20.346.804) ha presentado su renuncia a partir del 18 de diciembre de 2018, al cargo de Secretario de Coordinación Administrativa, actualmente dependiente de la Secretaría de Gobierno de Trabajo y Empleo del MINISTERIO DE PRODUCCIÓN Y TRABAJO, para el que fuera designado por el Decreto N° 193 de fecha 8 de marzo de 2018.\n",
    "\n",
    "Que en atención a lo expuesto precedentemente, resulta pertinente proceder a la aceptación de la referida renuncia.\n",
    "\n",
    "Que en virtud de específicas razones de servicio de la SECRETARÍA DE COORDINACIÓN ADMINISTRATIVA de la citada Secretaría de Gobierno, se considera imprescindible la cobertura del cargo vacante.\n",
    "\n",
    "Que, en tal sentido, se propicia la designación del Doctor D. Sebastián Martín BIDEBERRIPE (M.I. N° 25.055.401) a partir del 18 de diciembre de 2018, en el cargo de Secretario de Coordinación Administrativa de la Secretaría de Gobierno de Trabajo y Empleo del MINISTERIO DE PRODUCCIÓN Y TRABAJO.\n",
    "\n",
    "Que la DIRECCIÓN GENERAL DE ASUNTOS JURÍDICOS del MINISTERIO DE PRODUCCIÓN Y TRABAJO ha tomado la intervención de su competencia.\n",
    "\n",
    "Que la presente medida se dicta en ejercicio de las atribuciones conferidas por el artículo 99, inciso 7, de la CONSTITUCIÓN NACIONAL.\n",
    "\n",
    "Por ello,\n",
    "\n",
    "EL PRESIDENTE DE LA NACIÓN ARGENTINA\n",
    "\n",
    "DECRETA:\n",
    "\n",
    "ARTÍCULO 1º.- Acéptase, a partir del 18 de diciembre de 2018, la renuncia presentada por el Doctor Don Esteban ESEVERRI (M.I. Nº 20.346.804) al cargo de Secretario de Coordinación Administrativa, actualmente dependiente de la Secretaría de Gobierno de Trabajo y Empleo del MINISTERIO DE PRODUCCIÓN Y TRABAJO, para el que fuera designado por el Decreto N° 193 de fecha 8 de marzo de 2018.\n",
    "\n",
    "ARTÍCULO 2º.- Agradécense al funcionario citado en el artículo 1° los valiosos servicios prestados en el desempeño de dicho cargo.\n",
    "\n",
    "ARTÍCULO 3°.- Desígnase, a partir del 18 de diciembre de 2018, al Doctor D. Sebastián Martín BIDEBERRIPE (M.I. N° 25.055.401) en el cargo de Secretario de Coordinación Administrativa dependiente de la Secretaría de Gobierno de Trabajo y Empleo del MINISTERIO DE PRODUCCIÓN Y TRABAJO.\n",
    "\n",
    "ARTÍCULO 4º.- Comuníquese, publíquese, dése a la DIRECCIÓN NACIONAL DEL REGISTRO OFICIAL y archívese. MACRI - Dante Sica\n",
    "\n",
    "e. 07/01/2019 N° 763/19 v. 07/01/2019\n",
    "\n",
    "Fecha de publicación 07/01/2019\n",
    "\"\"\""
   ]
  },
  {
   "cell_type": "code",
   "execution_count": 16,
   "metadata": {},
   "outputs": [
    {
     "data": {
      "text/plain": [
       "1"
      ]
     },
     "execution_count": 16,
     "metadata": {},
     "output_type": "execute_result"
    }
   ],
   "source": [
    "predict(normative)"
   ]
  }
 ],
 "metadata": {
  "kernelspec": {
   "display_name": "Python 3",
   "language": "python",
   "name": "python3"
  },
  "language_info": {
   "codemirror_mode": {
    "name": "ipython",
    "version": 3
   },
   "file_extension": ".py",
   "mimetype": "text/x-python",
   "name": "python",
   "nbconvert_exporter": "python",
   "pygments_lexer": "ipython3",
   "version": "3.5.6"
  }
 },
 "nbformat": 4,
 "nbformat_minor": 2
}
